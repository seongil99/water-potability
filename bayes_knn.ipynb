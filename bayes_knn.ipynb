{
 "cells": [
  {
   "cell_type": "markdown",
   "metadata": {
    "id": "6QD4k3hf3imi"
   },
   "source": [
    " ph : 물의 ph 농도\n",
    "\n",
    " Hardness : 물의 경도 (물의 칼슘과 마그네슘 이온의 농도)\n",
    "\n",
    " Solids : 총용존 고형물 (액체가 아닌 모든 물질)\n",
    "\n",
    " Chloramines : 물 속의 클로라민 농도\n",
    "\t         (수돗물의 정화에 쓰이는 암모니아와 염소가 반응하여 생성되는 무색의 액체이다.)\n",
    "\n",
    " Sulfate : 물 속의 황산염 농도\n",
    "\n",
    " Conductivity : 물의 전기 전도도\n",
    "\n",
    " Organic_carbon : 물 속의 유기 탄소 함유량\n",
    "\n",
    " Trihalomethanes : 물 속의 트라이할로메탄 농도 (염소 소독시 발생하는 소독 부산물이다.)\n",
    "\n",
    " Turbidity : 물의 탁한 정도\n",
    "\n",
    " Potability : 음용성"
   ]
  },
  {
   "cell_type": "code",
   "execution_count": 1,
   "metadata": {
    "executionInfo": {
     "elapsed": 374,
     "status": "ok",
     "timestamp": 1700178845282,
     "user": {
      "displayName": "CY J",
      "userId": "11058883697243258040"
     },
     "user_tz": -540
    },
    "id": "DVQj-wby3imo"
   },
   "outputs": [],
   "source": [
    "import pandas as pd\n",
    "import numpy as np\n",
    "import math\n",
    "import matplotlib.pyplot as plt\n",
    "from sklearn.linear_model import LogisticRegression\n",
    "from sklearn.model_selection import train_test_split\n",
    "from sklearn.model_selection import cross_val_score"
   ]
  },
  {
   "cell_type": "code",
   "execution_count": 2,
   "metadata": {
    "colab": {
     "base_uri": "https://localhost:8080/",
     "height": 206
    },
    "executionInfo": {
     "elapsed": 62,
     "status": "ok",
     "timestamp": 1700178845951,
     "user": {
      "displayName": "CY J",
      "userId": "11058883697243258040"
     },
     "user_tz": -540
    },
    "id": "_G8CsxjG3imq",
    "outputId": "c6722fb0-ca1e-4c79-a95b-7ca3465cd9c5"
   },
   "outputs": [
    {
     "data": {
      "text/html": [
       "<div>\n",
       "<style scoped>\n",
       "    .dataframe tbody tr th:only-of-type {\n",
       "        vertical-align: middle;\n",
       "    }\n",
       "\n",
       "    .dataframe tbody tr th {\n",
       "        vertical-align: top;\n",
       "    }\n",
       "\n",
       "    .dataframe thead th {\n",
       "        text-align: right;\n",
       "    }\n",
       "</style>\n",
       "<table border=\"1\" class=\"dataframe\">\n",
       "  <thead>\n",
       "    <tr style=\"text-align: right;\">\n",
       "      <th></th>\n",
       "      <th>ph</th>\n",
       "      <th>Hardness</th>\n",
       "      <th>Solids</th>\n",
       "      <th>Chloramines</th>\n",
       "      <th>Sulfate</th>\n",
       "      <th>Conductivity</th>\n",
       "      <th>Organic_carbon</th>\n",
       "      <th>Trihalomethanes</th>\n",
       "      <th>Turbidity</th>\n",
       "      <th>Potability</th>\n",
       "    </tr>\n",
       "  </thead>\n",
       "  <tbody>\n",
       "    <tr>\n",
       "      <th>0</th>\n",
       "      <td>NaN</td>\n",
       "      <td>204.890455</td>\n",
       "      <td>20791.318981</td>\n",
       "      <td>7.300212</td>\n",
       "      <td>368.516441</td>\n",
       "      <td>564.308654</td>\n",
       "      <td>10.379783</td>\n",
       "      <td>86.990970</td>\n",
       "      <td>2.963135</td>\n",
       "      <td>0</td>\n",
       "    </tr>\n",
       "    <tr>\n",
       "      <th>1</th>\n",
       "      <td>3.716080</td>\n",
       "      <td>129.422921</td>\n",
       "      <td>18630.057858</td>\n",
       "      <td>6.635246</td>\n",
       "      <td>NaN</td>\n",
       "      <td>592.885359</td>\n",
       "      <td>15.180013</td>\n",
       "      <td>56.329076</td>\n",
       "      <td>4.500656</td>\n",
       "      <td>0</td>\n",
       "    </tr>\n",
       "    <tr>\n",
       "      <th>2</th>\n",
       "      <td>8.099124</td>\n",
       "      <td>224.236259</td>\n",
       "      <td>19909.541732</td>\n",
       "      <td>9.275884</td>\n",
       "      <td>NaN</td>\n",
       "      <td>418.606213</td>\n",
       "      <td>16.868637</td>\n",
       "      <td>66.420093</td>\n",
       "      <td>3.055934</td>\n",
       "      <td>0</td>\n",
       "    </tr>\n",
       "    <tr>\n",
       "      <th>3</th>\n",
       "      <td>8.316766</td>\n",
       "      <td>214.373394</td>\n",
       "      <td>22018.417441</td>\n",
       "      <td>8.059332</td>\n",
       "      <td>356.886136</td>\n",
       "      <td>363.266516</td>\n",
       "      <td>18.436524</td>\n",
       "      <td>100.341674</td>\n",
       "      <td>4.628771</td>\n",
       "      <td>0</td>\n",
       "    </tr>\n",
       "    <tr>\n",
       "      <th>4</th>\n",
       "      <td>9.092223</td>\n",
       "      <td>181.101509</td>\n",
       "      <td>17978.986339</td>\n",
       "      <td>6.546600</td>\n",
       "      <td>310.135738</td>\n",
       "      <td>398.410813</td>\n",
       "      <td>11.558279</td>\n",
       "      <td>31.997993</td>\n",
       "      <td>4.075075</td>\n",
       "      <td>0</td>\n",
       "    </tr>\n",
       "  </tbody>\n",
       "</table>\n",
       "</div>"
      ],
      "text/plain": [
       "         ph    Hardness        Solids  Chloramines     Sulfate  Conductivity  \\\n",
       "0       NaN  204.890455  20791.318981     7.300212  368.516441    564.308654   \n",
       "1  3.716080  129.422921  18630.057858     6.635246         NaN    592.885359   \n",
       "2  8.099124  224.236259  19909.541732     9.275884         NaN    418.606213   \n",
       "3  8.316766  214.373394  22018.417441     8.059332  356.886136    363.266516   \n",
       "4  9.092223  181.101509  17978.986339     6.546600  310.135738    398.410813   \n",
       "\n",
       "   Organic_carbon  Trihalomethanes  Turbidity  Potability  \n",
       "0       10.379783        86.990970   2.963135           0  \n",
       "1       15.180013        56.329076   4.500656           0  \n",
       "2       16.868637        66.420093   3.055934           0  \n",
       "3       18.436524       100.341674   4.628771           0  \n",
       "4       11.558279        31.997993   4.075075           0  "
      ]
     },
     "execution_count": 2,
     "metadata": {},
     "output_type": "execute_result"
    }
   ],
   "source": [
    "data = pd.read_csv(\"data/water_potability.csv\")\n",
    "data.head()"
   ]
  },
  {
   "cell_type": "markdown",
   "metadata": {
    "id": "9N8Jr2vu3ims"
   },
   "source": [
    "### 총 instance 갯수는 3276개\n",
    "- ph, sulfate, Trihalomethanes에서 결측치 발생"
   ]
  },
  {
   "cell_type": "code",
   "execution_count": 3,
   "metadata": {
    "colab": {
     "base_uri": "https://localhost:8080/"
    },
    "executionInfo": {
     "elapsed": 58,
     "status": "ok",
     "timestamp": 1700178845952,
     "user": {
      "displayName": "CY J",
      "userId": "11058883697243258040"
     },
     "user_tz": -540
    },
    "id": "U6vYKL6s3ims",
    "outputId": "0eb80cbd-358d-4e78-a243-4b416c32823b"
   },
   "outputs": [
    {
     "name": "stdout",
     "output_type": "stream",
     "text": [
      "<class 'pandas.core.frame.DataFrame'>\n",
      "RangeIndex: 3276 entries, 0 to 3275\n",
      "Data columns (total 10 columns):\n",
      " #   Column           Non-Null Count  Dtype  \n",
      "---  ------           --------------  -----  \n",
      " 0   ph               2785 non-null   float64\n",
      " 1   Hardness         3276 non-null   float64\n",
      " 2   Solids           3276 non-null   float64\n",
      " 3   Chloramines      3276 non-null   float64\n",
      " 4   Sulfate          2495 non-null   float64\n",
      " 5   Conductivity     3276 non-null   float64\n",
      " 6   Organic_carbon   3276 non-null   float64\n",
      " 7   Trihalomethanes  3114 non-null   float64\n",
      " 8   Turbidity        3276 non-null   float64\n",
      " 9   Potability       3276 non-null   int64  \n",
      "dtypes: float64(9), int64(1)\n",
      "memory usage: 256.1 KB\n"
     ]
    }
   ],
   "source": [
    "data.info()"
   ]
  },
  {
   "cell_type": "code",
   "execution_count": 4,
   "metadata": {
    "colab": {
     "base_uri": "https://localhost:8080/"
    },
    "executionInfo": {
     "elapsed": 51,
     "status": "ok",
     "timestamp": 1700178845952,
     "user": {
      "displayName": "CY J",
      "userId": "11058883697243258040"
     },
     "user_tz": -540
    },
    "id": "gV3DNCar3imt",
    "outputId": "207648ce-a8e8-4cbf-8956-1a28cd966e8d"
   },
   "outputs": [
    {
     "data": {
      "text/plain": [
       "3276"
      ]
     },
     "execution_count": 4,
     "metadata": {},
     "output_type": "execute_result"
    }
   ],
   "source": [
    "len(data)"
   ]
  },
  {
   "cell_type": "code",
   "execution_count": 5,
   "metadata": {
    "colab": {
     "base_uri": "https://localhost:8080/",
     "height": 423
    },
    "executionInfo": {
     "elapsed": 46,
     "status": "ok",
     "timestamp": 1700178845953,
     "user": {
      "displayName": "CY J",
      "userId": "11058883697243258040"
     },
     "user_tz": -540
    },
    "id": "rI21PZAK3imt",
    "outputId": "47965f21-9842-4927-8018-da8803775154"
   },
   "outputs": [
    {
     "data": {
      "text/html": [
       "<div>\n",
       "<style scoped>\n",
       "    .dataframe tbody tr th:only-of-type {\n",
       "        vertical-align: middle;\n",
       "    }\n",
       "\n",
       "    .dataframe tbody tr th {\n",
       "        vertical-align: top;\n",
       "    }\n",
       "\n",
       "    .dataframe thead th {\n",
       "        text-align: right;\n",
       "    }\n",
       "</style>\n",
       "<table border=\"1\" class=\"dataframe\">\n",
       "  <thead>\n",
       "    <tr style=\"text-align: right;\">\n",
       "      <th></th>\n",
       "      <th>ph</th>\n",
       "      <th>Hardness</th>\n",
       "      <th>Solids</th>\n",
       "      <th>Chloramines</th>\n",
       "      <th>Sulfate</th>\n",
       "      <th>Conductivity</th>\n",
       "      <th>Organic_carbon</th>\n",
       "      <th>Trihalomethanes</th>\n",
       "      <th>Turbidity</th>\n",
       "      <th>Potability</th>\n",
       "    </tr>\n",
       "  </thead>\n",
       "  <tbody>\n",
       "    <tr>\n",
       "      <th>0</th>\n",
       "      <td>True</td>\n",
       "      <td>False</td>\n",
       "      <td>False</td>\n",
       "      <td>False</td>\n",
       "      <td>False</td>\n",
       "      <td>False</td>\n",
       "      <td>False</td>\n",
       "      <td>False</td>\n",
       "      <td>False</td>\n",
       "      <td>False</td>\n",
       "    </tr>\n",
       "    <tr>\n",
       "      <th>1</th>\n",
       "      <td>False</td>\n",
       "      <td>False</td>\n",
       "      <td>False</td>\n",
       "      <td>False</td>\n",
       "      <td>True</td>\n",
       "      <td>False</td>\n",
       "      <td>False</td>\n",
       "      <td>False</td>\n",
       "      <td>False</td>\n",
       "      <td>False</td>\n",
       "    </tr>\n",
       "    <tr>\n",
       "      <th>2</th>\n",
       "      <td>False</td>\n",
       "      <td>False</td>\n",
       "      <td>False</td>\n",
       "      <td>False</td>\n",
       "      <td>True</td>\n",
       "      <td>False</td>\n",
       "      <td>False</td>\n",
       "      <td>False</td>\n",
       "      <td>False</td>\n",
       "      <td>False</td>\n",
       "    </tr>\n",
       "    <tr>\n",
       "      <th>3</th>\n",
       "      <td>False</td>\n",
       "      <td>False</td>\n",
       "      <td>False</td>\n",
       "      <td>False</td>\n",
       "      <td>False</td>\n",
       "      <td>False</td>\n",
       "      <td>False</td>\n",
       "      <td>False</td>\n",
       "      <td>False</td>\n",
       "      <td>False</td>\n",
       "    </tr>\n",
       "    <tr>\n",
       "      <th>4</th>\n",
       "      <td>False</td>\n",
       "      <td>False</td>\n",
       "      <td>False</td>\n",
       "      <td>False</td>\n",
       "      <td>False</td>\n",
       "      <td>False</td>\n",
       "      <td>False</td>\n",
       "      <td>False</td>\n",
       "      <td>False</td>\n",
       "      <td>False</td>\n",
       "    </tr>\n",
       "    <tr>\n",
       "      <th>...</th>\n",
       "      <td>...</td>\n",
       "      <td>...</td>\n",
       "      <td>...</td>\n",
       "      <td>...</td>\n",
       "      <td>...</td>\n",
       "      <td>...</td>\n",
       "      <td>...</td>\n",
       "      <td>...</td>\n",
       "      <td>...</td>\n",
       "      <td>...</td>\n",
       "    </tr>\n",
       "    <tr>\n",
       "      <th>3271</th>\n",
       "      <td>False</td>\n",
       "      <td>False</td>\n",
       "      <td>False</td>\n",
       "      <td>False</td>\n",
       "      <td>False</td>\n",
       "      <td>False</td>\n",
       "      <td>False</td>\n",
       "      <td>False</td>\n",
       "      <td>False</td>\n",
       "      <td>False</td>\n",
       "    </tr>\n",
       "    <tr>\n",
       "      <th>3272</th>\n",
       "      <td>False</td>\n",
       "      <td>False</td>\n",
       "      <td>False</td>\n",
       "      <td>False</td>\n",
       "      <td>True</td>\n",
       "      <td>False</td>\n",
       "      <td>False</td>\n",
       "      <td>True</td>\n",
       "      <td>False</td>\n",
       "      <td>False</td>\n",
       "    </tr>\n",
       "    <tr>\n",
       "      <th>3273</th>\n",
       "      <td>False</td>\n",
       "      <td>False</td>\n",
       "      <td>False</td>\n",
       "      <td>False</td>\n",
       "      <td>True</td>\n",
       "      <td>False</td>\n",
       "      <td>False</td>\n",
       "      <td>False</td>\n",
       "      <td>False</td>\n",
       "      <td>False</td>\n",
       "    </tr>\n",
       "    <tr>\n",
       "      <th>3274</th>\n",
       "      <td>False</td>\n",
       "      <td>False</td>\n",
       "      <td>False</td>\n",
       "      <td>False</td>\n",
       "      <td>True</td>\n",
       "      <td>False</td>\n",
       "      <td>False</td>\n",
       "      <td>False</td>\n",
       "      <td>False</td>\n",
       "      <td>False</td>\n",
       "    </tr>\n",
       "    <tr>\n",
       "      <th>3275</th>\n",
       "      <td>False</td>\n",
       "      <td>False</td>\n",
       "      <td>False</td>\n",
       "      <td>False</td>\n",
       "      <td>True</td>\n",
       "      <td>False</td>\n",
       "      <td>False</td>\n",
       "      <td>False</td>\n",
       "      <td>False</td>\n",
       "      <td>False</td>\n",
       "    </tr>\n",
       "  </tbody>\n",
       "</table>\n",
       "<p>3276 rows × 10 columns</p>\n",
       "</div>"
      ],
      "text/plain": [
       "         ph  Hardness  Solids  Chloramines  Sulfate  Conductivity  \\\n",
       "0      True     False   False        False    False         False   \n",
       "1     False     False   False        False     True         False   \n",
       "2     False     False   False        False     True         False   \n",
       "3     False     False   False        False    False         False   \n",
       "4     False     False   False        False    False         False   \n",
       "...     ...       ...     ...          ...      ...           ...   \n",
       "3271  False     False   False        False    False         False   \n",
       "3272  False     False   False        False     True         False   \n",
       "3273  False     False   False        False     True         False   \n",
       "3274  False     False   False        False     True         False   \n",
       "3275  False     False   False        False     True         False   \n",
       "\n",
       "      Organic_carbon  Trihalomethanes  Turbidity  Potability  \n",
       "0              False            False      False       False  \n",
       "1              False            False      False       False  \n",
       "2              False            False      False       False  \n",
       "3              False            False      False       False  \n",
       "4              False            False      False       False  \n",
       "...              ...              ...        ...         ...  \n",
       "3271           False            False      False       False  \n",
       "3272           False             True      False       False  \n",
       "3273           False            False      False       False  \n",
       "3274           False            False      False       False  \n",
       "3275           False            False      False       False  \n",
       "\n",
       "[3276 rows x 10 columns]"
      ]
     },
     "execution_count": 5,
     "metadata": {},
     "output_type": "execute_result"
    }
   ],
   "source": [
    "data.isnull()"
   ]
  },
  {
   "cell_type": "code",
   "execution_count": 6,
   "metadata": {
    "colab": {
     "base_uri": "https://localhost:8080/"
    },
    "executionInfo": {
     "elapsed": 42,
     "status": "ok",
     "timestamp": 1700178845953,
     "user": {
      "displayName": "CY J",
      "userId": "11058883697243258040"
     },
     "user_tz": -540
    },
    "id": "M-NTmUln3imu",
    "outputId": "20f49f10-c9f8-4561-b392-a5c4ccbb5e37"
   },
   "outputs": [
    {
     "name": "stdout",
     "output_type": "stream",
     "text": [
      "7.080794504276835\n",
      "333.77577661081347\n",
      "66.39629294676803\n"
     ]
    }
   ],
   "source": [
    "print(data['ph'].mean())\n",
    "print(data['Sulfate'].mean())\n",
    "print(data['Trihalomethanes'].mean())"
   ]
  },
  {
   "cell_type": "code",
   "execution_count": 7,
   "metadata": {
    "colab": {
     "base_uri": "https://localhost:8080/"
    },
    "executionInfo": {
     "elapsed": 37,
     "status": "ok",
     "timestamp": 1700178845953,
     "user": {
      "displayName": "CY J",
      "userId": "11058883697243258040"
     },
     "user_tz": -540
    },
    "id": "MuiFkIyv3imu",
    "outputId": "9c787441-0337-42b9-bce8-0b30eae62d6b"
   },
   "outputs": [
    {
     "data": {
      "text/plain": [
       "0       368.516441\n",
       "1              NaN\n",
       "2              NaN\n",
       "3       356.886136\n",
       "4       310.135738\n",
       "           ...    \n",
       "3271    359.948574\n",
       "3272           NaN\n",
       "3273           NaN\n",
       "3274           NaN\n",
       "3275           NaN\n",
       "Name: Sulfate, Length: 3276, dtype: float64"
      ]
     },
     "execution_count": 7,
     "metadata": {},
     "output_type": "execute_result"
    }
   ],
   "source": [
    "# 모든 행,열 출력하기\n",
    "# => 모든 값이 다 높게 나오기에 평균으로 대체해도 될듯\n",
    "# pd.set_option('display.max_rows', None)\n",
    "data['Sulfate']"
   ]
  },
  {
   "cell_type": "code",
   "execution_count": 8,
   "metadata": {
    "executionInfo": {
     "elapsed": 33,
     "status": "ok",
     "timestamp": 1700178845954,
     "user": {
      "displayName": "CY J",
      "userId": "11058883697243258040"
     },
     "user_tz": -540
    },
    "id": "VK0j3iHS3imv"
   },
   "outputs": [],
   "source": [
    "# 결측치 평균으로 대체\n",
    "data = data.fillna(data.mean())"
   ]
  },
  {
   "cell_type": "code",
   "execution_count": 9,
   "metadata": {
    "colab": {
     "base_uri": "https://localhost:8080/"
    },
    "executionInfo": {
     "elapsed": 31,
     "status": "ok",
     "timestamp": 1700178845954,
     "user": {
      "displayName": "CY J",
      "userId": "11058883697243258040"
     },
     "user_tz": -540
    },
    "id": "EVCq_uhl3imw",
    "outputId": "d645a439-ee29-4203-d27a-cc15f6703355"
   },
   "outputs": [
    {
     "name": "stdout",
     "output_type": "stream",
     "text": [
      "<class 'pandas.core.frame.DataFrame'>\n",
      "RangeIndex: 3276 entries, 0 to 3275\n",
      "Data columns (total 10 columns):\n",
      " #   Column           Non-Null Count  Dtype  \n",
      "---  ------           --------------  -----  \n",
      " 0   ph               3276 non-null   float64\n",
      " 1   Hardness         3276 non-null   float64\n",
      " 2   Solids           3276 non-null   float64\n",
      " 3   Chloramines      3276 non-null   float64\n",
      " 4   Sulfate          3276 non-null   float64\n",
      " 5   Conductivity     3276 non-null   float64\n",
      " 6   Organic_carbon   3276 non-null   float64\n",
      " 7   Trihalomethanes  3276 non-null   float64\n",
      " 8   Turbidity        3276 non-null   float64\n",
      " 9   Potability       3276 non-null   int64  \n",
      "dtypes: float64(9), int64(1)\n",
      "memory usage: 256.1 KB\n"
     ]
    }
   ],
   "source": [
    "# 결측치 평균으로 대체된거 확인\n",
    "data.info()"
   ]
  },
  {
   "cell_type": "code",
   "execution_count": 10,
   "metadata": {
    "executionInfo": {
     "elapsed": 25,
     "status": "ok",
     "timestamp": 1700178845954,
     "user": {
      "displayName": "CY J",
      "userId": "11058883697243258040"
     },
     "user_tz": -540
    },
    "id": "rtiUWJvR3imw"
   },
   "outputs": [],
   "source": [
    "Xf = data.drop(['Potability'],axis=1)\n",
    "yf = data['Potability']"
   ]
  },
  {
   "cell_type": "code",
   "execution_count": 11,
   "metadata": {
    "colab": {
     "base_uri": "https://localhost:8080/",
     "height": 1000
    },
    "executionInfo": {
     "elapsed": 823,
     "status": "ok",
     "timestamp": 1700178846753,
     "user": {
      "displayName": "CY J",
      "userId": "11058883697243258040"
     },
     "user_tz": -540
    },
    "id": "l-J_Z3YX49Tm",
    "outputId": "12013f73-50f5-45f6-bc35-88563b86d2b0"
   },
   "outputs": [
    {
     "data": {
      "image/png": "[encoded data removed]",
      "text/plain": [
       "<Figure size 1200x1200 with 2 Axes>"
      ]
     },
     "metadata": {},
     "output_type": "display_data"
    }
   ],
   "source": [
    "import seaborn as sns\n",
    "\n",
    "plt.figure(figsize=(12,12))\n",
    "cor = data.corr()\n",
    "sns.heatmap(cor, annot=True, cmap=plt.cm.Reds)\n",
    "plt.show()"
   ]
  },
  {
   "cell_type": "code",
   "execution_count": 12,
   "metadata": {
    "executionInfo": {
     "elapsed": 19,
     "status": "ok",
     "timestamp": 1700178846755,
     "user": {
      "displayName": "CY J",
      "userId": "11058883697243258040"
     },
     "user_tz": -540
    },
    "id": "y9QX8CNU4lm0"
   },
   "outputs": [],
   "source": [
    "# train,test set을 7:3으로 나눔\n",
    "Xf_train, Xf_test, yf_train, yf_test = train_test_split(Xf, yf, test_size = 0.3)"
   ]
  },
  {
   "cell_type": "code",
   "execution_count": 13,
   "metadata": {
    "executionInfo": {
     "elapsed": 16,
     "status": "ok",
     "timestamp": 1700178846755,
     "user": {
      "displayName": "CY J",
      "userId": "11058883697243258040"
     },
     "user_tz": -540
    },
    "id": "ni2Ydy6z4xMC"
   },
   "outputs": [],
   "source": [
    "# feature importance로 입력변수 정하기\n",
    "from sklearn.ensemble import RandomForestClassifier\n",
    "\n",
    "rnd_clf = RandomForestClassifier(\n",
    "    n_estimators = 500,\n",
    "    max_leaf_nodes = 16,\n",
    "    max_features = 'auto',\n",
    "    max_samples=0.5,\n",
    "    bootstrap = True,\n",
    "    n_jobs=-1\n",
    ")"
   ]
  },
  {
   "cell_type": "markdown",
   "metadata": {
    "id": "vBZV5WVK5cIh"
   },
   "source": [
    "## feature selection 하기전 roc_auc 0.62"
   ]
  },
  {
   "cell_type": "code",
   "execution_count": 14,
   "metadata": {
    "colab": {
     "base_uri": "https://localhost:8080/"
    },
    "executionInfo": {
     "elapsed": 895,
     "status": "ok",
     "timestamp": 1700178847635,
     "user": {
      "displayName": "CY J",
      "userId": "11058883697243258040"
     },
     "user_tz": -540
    },
    "id": "RUPlCuWE5WWK",
    "outputId": "7a2cc7d9-ef74-420a-de4c-a92885f8f162"
   },
   "outputs": [
    {
     "name": "stdout",
     "output_type": "stream",
     "text": [
      "0.7131131069912107\n"
     ]
    }
   ],
   "source": [
    "from sklearn.metrics import roc_auc_score\n",
    "\n",
    "rnd_clf = RandomForestClassifier(max_features='sqrt', random_state=42)\n",
    "rnd_clf.fit(Xf_train, yf_train)\n",
    "\n",
    "# 예측 확률을 사용하여 AUC 계산\n",
    "yf_pred_proba = rnd_clf.predict_proba(Xf_test)[:, 1]\n",
    "print(roc_auc_score(yf_test, yf_pred_proba))"
   ]
  },
  {
   "cell_type": "code",
   "execution_count": 15,
   "metadata": {
    "colab": {
     "base_uri": "https://localhost:8080/"
    },
    "executionInfo": {
     "elapsed": 15,
     "status": "ok",
     "timestamp": 1700178847635,
     "user": {
      "displayName": "CY J",
      "userId": "11058883697243258040"
     },
     "user_tz": -540
    },
    "id": "hDNQFAz15Z3v",
    "outputId": "786b0313-10c8-4d26-c398-12cb9302e366"
   },
   "outputs": [
    {
     "name": "stdout",
     "output_type": "stream",
     "text": [
      "ph 0.12593555607100276\n",
      "Hardness 0.11910344711428011\n",
      "Solids 0.11486951011323114\n",
      "Chloramines 0.11476886009813572\n",
      "Sulfate 0.1227941453791994\n",
      "Conductivity 0.1012455258979747\n",
      "Organic_carbon 0.10024622688667587\n",
      "Trihalomethanes 0.10024105143892051\n",
      "Turbidity 0.10079567700057974\n"
     ]
    }
   ],
   "source": [
    "for name, score in zip(Xf.columns, rnd_clf.feature_importances_):\n",
    "    print(name, score)"
   ]
  },
  {
   "cell_type": "code",
   "execution_count": 16,
   "metadata": {
    "colab": {
     "base_uri": "https://localhost:8080/",
     "height": 449
    },
    "executionInfo": {
     "elapsed": 542,
     "status": "ok",
     "timestamp": 1700178848168,
     "user": {
      "displayName": "CY J",
      "userId": "11058883697243258040"
     },
     "user_tz": -540
    },
    "id": "LtgmxCXN5lrL",
    "outputId": "cc2652c3-f8a1-4b82-bd6d-b20b6efd2ae3"
   },
   "outputs": [
    {
     "data": {
      "image/png": "[encoded data removed]",
      "text/plain": [
       "<Figure size 640x480 with 1 Axes>"
      ]
     },
     "metadata": {},
     "output_type": "display_data"
    }
   ],
   "source": [
    "import matplotlib.pyplot as plt\n",
    "\n",
    "def plot_feature_importances(model):\n",
    "    n_features = model.feature_importances_.shape[0]\n",
    "    plt.barh(range(n_features), model.feature_importances_, align='center')\n",
    "    plt.yticks(np.arange(n_features), Xf_train.columns)\n",
    "    plt.xlabel(\"Feature Importances\")\n",
    "    plt.ylabel(\"Features\")\n",
    "    plt.ylim(-1, n_features)\n",
    "\n",
    "plot_feature_importances(rnd_clf)"
   ]
  },
  {
   "cell_type": "code",
   "execution_count": 17,
   "metadata": {
    "executionInfo": {
     "elapsed": 9,
     "status": "ok",
     "timestamp": 1700178848169,
     "user": {
      "displayName": "CY J",
      "userId": "11058883697243258040"
     },
     "user_tz": -540
    },
    "id": "am8RjgmF5lom"
   },
   "outputs": [],
   "source": [
    "# feature 중요도가 가장 낮은 거 drop\n",
    "Xf_train=Xf_train.drop(['Turbidity'],axis=1)\n",
    "Xf_test=Xf_test.drop(['Turbidity'],axis=1)"
   ]
  },
  {
   "cell_type": "markdown",
   "metadata": {
    "id": "tKL4hEew6Q1q"
   },
   "source": [
    "## 중요도가 낮은걸 저장한 결과 roc_auc가 조금 더 낮아짐 하지만 별로 차이가 없기때문에 drop -> 입력변수는 적을 수록 좋음"
   ]
  },
  {
   "cell_type": "code",
   "execution_count": 18,
   "metadata": {
    "colab": {
     "base_uri": "https://localhost:8080/"
    },
    "executionInfo": {
     "elapsed": 743,
     "status": "ok",
     "timestamp": 1700178848904,
     "user": {
      "displayName": "CY J",
      "userId": "11058883697243258040"
     },
     "user_tz": -540
    },
    "id": "6nsYcq8y57pS",
    "outputId": "db528b44-fd6b-49f3-eceb-bbcd5425ba92"
   },
   "outputs": [
    {
     "name": "stdout",
     "output_type": "stream",
     "text": [
      "0.7174727847769488\n"
     ]
    }
   ],
   "source": [
    "rnd_clf1 = RandomForestClassifier(max_features='sqrt', random_state=42)\n",
    "rnd_clf1.fit(Xf_train, yf_train)\n",
    "\n",
    "# 예측 확률을 사용하여 AUC 계산\n",
    "yf_pred_proba1 = rnd_clf1.predict_proba(Xf_test)[:, 1]\n",
    "print(roc_auc_score(yf_test, yf_pred_proba1))"
   ]
  },
  {
   "cell_type": "code",
   "execution_count": 19,
   "metadata": {
    "colab": {
     "base_uri": "https://localhost:8080/",
     "height": 449
    },
    "executionInfo": {
     "elapsed": 495,
     "status": "ok",
     "timestamp": 1700178849390,
     "user": {
      "displayName": "CY J",
      "userId": "11058883697243258040"
     },
     "user_tz": -540
    },
    "id": "p4J15IYX6ZgH",
    "outputId": "ec0b7a7d-a607-4533-c385-e2cdb7553916"
   },
   "outputs": [
    {
     "data": {
      "image/png": "[encoded data removed]",
      "text/plain": [
       "<Figure size 640x480 with 1 Axes>"
      ]
     },
     "metadata": {},
     "output_type": "display_data"
    }
   ],
   "source": [
    "plot_feature_importances(rnd_clf1)"
   ]
  },
  {
   "cell_type": "code",
   "execution_count": 20,
   "metadata": {
    "executionInfo": {
     "elapsed": 12,
     "status": "ok",
     "timestamp": 1700178849391,
     "user": {
      "displayName": "CY J",
      "userId": "11058883697243258040"
     },
     "user_tz": -540
    },
    "id": "zZk3SA8B6D8w"
   },
   "outputs": [],
   "source": [
    "# feature 중요도가 가장 낮은 거 drop\n",
    "Xf_train=Xf_train.drop(['Organic_carbon'],axis=1)\n",
    "Xf_test=Xf_test.drop(['Organic_carbon'],axis=1)"
   ]
  },
  {
   "cell_type": "code",
   "execution_count": 21,
   "metadata": {
    "colab": {
     "base_uri": "https://localhost:8080/"
    },
    "executionInfo": {
     "elapsed": 975,
     "status": "ok",
     "timestamp": 1700178850355,
     "user": {
      "displayName": "CY J",
      "userId": "11058883697243258040"
     },
     "user_tz": -540
    },
    "id": "zbEdcSGl66zL",
    "outputId": "0bf5e1b9-ab93-4b69-8ade-cf406be8af60"
   },
   "outputs": [
    {
     "name": "stdout",
     "output_type": "stream",
     "text": [
      "0.7356672316482902\n"
     ]
    }
   ],
   "source": [
    "rnd_clf2 = RandomForestClassifier(max_features='sqrt', random_state=42)\n",
    "rnd_clf2.fit(Xf_train, yf_train)\n",
    "\n",
    "# 예측 확률을 사용하여 AUC 계산\n",
    "yf_pred_proba2 = rnd_clf2.predict_proba(Xf_test)[:, 1]\n",
    "print(roc_auc_score(yf_test, yf_pred_proba2))"
   ]
  },
  {
   "cell_type": "markdown",
   "metadata": {
    "id": "raiCduRC7YvL"
   },
   "source": [
    "## Organic_carbon한 결과 68%로 성능이 좋아졌다"
   ]
  },
  {
   "cell_type": "code",
   "execution_count": 22,
   "metadata": {
    "colab": {
     "base_uri": "https://localhost:8080/",
     "height": 449
    },
    "executionInfo": {
     "elapsed": 588,
     "status": "ok",
     "timestamp": 1700178850926,
     "user": {
      "displayName": "CY J",
      "userId": "11058883697243258040"
     },
     "user_tz": -540
    },
    "id": "JjGYtpTb69wI",
    "outputId": "8d053501-2c01-4454-82e7-634555efd1da"
   },
   "outputs": [
    {
     "data": {
      "image/png": "[encoded data removed]",
      "text/plain": [
       "<Figure size 640x480 with 1 Axes>"
      ]
     },
     "metadata": {},
     "output_type": "display_data"
    }
   ],
   "source": [
    "plot_feature_importances(rnd_clf2)"
   ]
  },
  {
   "cell_type": "code",
   "execution_count": 23,
   "metadata": {
    "executionInfo": {
     "elapsed": 19,
     "status": "ok",
     "timestamp": 1700178850927,
     "user": {
      "displayName": "CY J",
      "userId": "11058883697243258040"
     },
     "user_tz": -540
    },
    "id": "Ix6iHnHO7hSI"
   },
   "outputs": [],
   "source": [
    "# feature 중요도가 가장 낮은 거 drop\n",
    "Xf_train=Xf_train.drop(['Trihalomethanes'],axis=1)\n",
    "Xf_test=Xf_test.drop(['Trihalomethanes'],axis=1)"
   ]
  },
  {
   "cell_type": "code",
   "execution_count": 24,
   "metadata": {
    "colab": {
     "base_uri": "https://localhost:8080/"
    },
    "executionInfo": {
     "elapsed": 969,
     "status": "ok",
     "timestamp": 1700178851879,
     "user": {
      "displayName": "CY J",
      "userId": "11058883697243258040"
     },
     "user_tz": -540
    },
    "id": "G6sDvAPp7ms_",
    "outputId": "ae817b68-b50b-426c-83ed-46278167b5d5"
   },
   "outputs": [
    {
     "name": "stdout",
     "output_type": "stream",
     "text": [
      "0.7242088801132293\n"
     ]
    }
   ],
   "source": [
    "# 성능이 더 안좋아지기에 더이상 feature importnace론 입력변수 구하지 않음\n",
    "\n",
    "rnd_clf3 = RandomForestClassifier(max_features='sqrt', random_state=42)\n",
    "rnd_clf3.fit(Xf_train, yf_train)\n",
    "\n",
    "# 예측 확률을 사용하여 AUC 계산\n",
    "yf_pred_proba3 = rnd_clf3.predict_proba(Xf_test)[:, 1]\n",
    "print(roc_auc_score(yf_test, yf_pred_proba3))"
   ]
  },
  {
   "cell_type": "code",
   "execution_count": 25,
   "metadata": {
    "colab": {
     "base_uri": "https://localhost:8080/"
    },
    "executionInfo": {
     "elapsed": 61,
     "status": "ok",
     "timestamp": 1700178851882,
     "user": {
      "displayName": "CY J",
      "userId": "11058883697243258040"
     },
     "user_tz": -540
    },
    "id": "Sb7dkwCv8-rw",
    "outputId": "92733230-27b5-40fd-c98f-68f766687335"
   },
   "outputs": [
    {
     "data": {
      "text/plain": [
       "Index(['ph', 'Hardness', 'Solids', 'Chloramines', 'Sulfate', 'Conductivity'], dtype='object')"
      ]
     },
     "execution_count": 25,
     "metadata": {},
     "output_type": "execute_result"
    }
   ],
   "source": [
    "Xf_train.columns"
   ]
  },
  {
   "cell_type": "markdown",
   "metadata": {
    "id": "SvCDZemO87fJ"
   },
   "source": [
    "## feature importance를 통해 입력변수 선정 - 6개\n",
    "'ph', 'Hardness', 'Solids', 'Chloramines', 'Sulfate', 'Conductivity'"
   ]
  },
  {
   "cell_type": "markdown",
   "metadata": {
    "id": "sur2Qiua-DbU"
   },
   "source": [
    "## vif로 입력변수 선정해보고자함"
   ]
  },
  {
   "cell_type": "code",
   "execution_count": 26,
   "metadata": {
    "colab": {
     "base_uri": "https://localhost:8080/",
     "height": 237
    },
    "executionInfo": {
     "elapsed": 47,
     "status": "ok",
     "timestamp": 1700178851885,
     "user": {
      "displayName": "CY J",
      "userId": "11058883697243258040"
     },
     "user_tz": -540
    },
    "id": "OObsGTmp-DH-",
    "outputId": "bf2b666d-45ad-40d4-cc4f-50037c382372"
   },
   "outputs": [
    {
     "data": {
      "text/html": [
       "<div>\n",
       "<style scoped>\n",
       "    .dataframe tbody tr th:only-of-type {\n",
       "        vertical-align: middle;\n",
       "    }\n",
       "\n",
       "    .dataframe tbody tr th {\n",
       "        vertical-align: top;\n",
       "    }\n",
       "\n",
       "    .dataframe thead th {\n",
       "        text-align: right;\n",
       "    }\n",
       "</style>\n",
       "<table border=\"1\" class=\"dataframe\">\n",
       "  <thead>\n",
       "    <tr style=\"text-align: right;\">\n",
       "      <th></th>\n",
       "      <th>variables</th>\n",
       "      <th>VIF</th>\n",
       "    </tr>\n",
       "  </thead>\n",
       "  <tbody>\n",
       "    <tr>\n",
       "      <th>0</th>\n",
       "      <td>ph</td>\n",
       "      <td>22.155721</td>\n",
       "    </tr>\n",
       "    <tr>\n",
       "      <th>1</th>\n",
       "      <td>Hardness</td>\n",
       "      <td>28.392456</td>\n",
       "    </tr>\n",
       "    <tr>\n",
       "      <th>2</th>\n",
       "      <td>Solids</td>\n",
       "      <td>6.835133</td>\n",
       "    </tr>\n",
       "    <tr>\n",
       "      <th>3</th>\n",
       "      <td>Chloramines</td>\n",
       "      <td>18.748257</td>\n",
       "    </tr>\n",
       "    <tr>\n",
       "      <th>4</th>\n",
       "      <td>Sulfate</td>\n",
       "      <td>47.178120</td>\n",
       "    </tr>\n",
       "    <tr>\n",
       "      <th>5</th>\n",
       "      <td>Conductivity</td>\n",
       "      <td>25.092022</td>\n",
       "    </tr>\n",
       "  </tbody>\n",
       "</table>\n",
       "</div>"
      ],
      "text/plain": [
       "      variables        VIF\n",
       "0            ph  22.155721\n",
       "1      Hardness  28.392456\n",
       "2        Solids   6.835133\n",
       "3   Chloramines  18.748257\n",
       "4       Sulfate  47.178120\n",
       "5  Conductivity  25.092022"
      ]
     },
     "execution_count": 26,
     "metadata": {},
     "output_type": "execute_result"
    }
   ],
   "source": [
    "from statsmodels.stats.outliers_influence import variance_inflation_factor\n",
    "\n",
    "def calc_vif(inputs):\n",
    "\n",
    "    vif = pd.DataFrame() # DF 생성\n",
    "    vif[\"variables\"] = inputs.columns\n",
    "    vif[\"VIF\"] = [variance_inflation_factor(inputs.values, i) for i in range(inputs.shape[1])]\n",
    "\n",
    "    return(vif)\n",
    "\n",
    "calc_vif(Xf_train)"
   ]
  },
  {
   "cell_type": "code",
   "execution_count": 27,
   "metadata": {
    "executionInfo": {
     "elapsed": 40,
     "status": "ok",
     "timestamp": 1700178851887,
     "user": {
      "displayName": "CY J",
      "userId": "11058883697243258040"
     },
     "user_tz": -540
    },
    "id": "pnCy9nmo-DFo"
   },
   "outputs": [],
   "source": [
    "# 가장 vif가 높은 Sulfate drop\n",
    "Xf_train=Xf_train.drop(['Sulfate'],axis=1)\n",
    "Xf_test=Xf_test.drop(['Sulfate'],axis=1)"
   ]
  },
  {
   "cell_type": "code",
   "execution_count": 28,
   "metadata": {
    "colab": {
     "base_uri": "https://localhost:8080/",
     "height": 206
    },
    "executionInfo": {
     "elapsed": 577,
     "status": "ok",
     "timestamp": 1700178852426,
     "user": {
      "displayName": "CY J",
      "userId": "11058883697243258040"
     },
     "user_tz": -540
    },
    "id": "ZD240_sb-DDg",
    "outputId": "85031bb0-7ca3-4f8b-c51d-769073fb9e30"
   },
   "outputs": [
    {
     "data": {
      "text/html": [
       "<div>\n",
       "<style scoped>\n",
       "    .dataframe tbody tr th:only-of-type {\n",
       "        vertical-align: middle;\n",
       "    }\n",
       "\n",
       "    .dataframe tbody tr th {\n",
       "        vertical-align: top;\n",
       "    }\n",
       "\n",
       "    .dataframe thead th {\n",
       "        text-align: right;\n",
       "    }\n",
       "</style>\n",
       "<table border=\"1\" class=\"dataframe\">\n",
       "  <thead>\n",
       "    <tr style=\"text-align: right;\">\n",
       "      <th></th>\n",
       "      <th>variables</th>\n",
       "      <th>VIF</th>\n",
       "    </tr>\n",
       "  </thead>\n",
       "  <tbody>\n",
       "    <tr>\n",
       "      <th>0</th>\n",
       "      <td>ph</td>\n",
       "      <td>19.844259</td>\n",
       "    </tr>\n",
       "    <tr>\n",
       "      <th>1</th>\n",
       "      <td>Hardness</td>\n",
       "      <td>25.240864</td>\n",
       "    </tr>\n",
       "    <tr>\n",
       "      <th>2</th>\n",
       "      <td>Solids</td>\n",
       "      <td>6.723726</td>\n",
       "    </tr>\n",
       "    <tr>\n",
       "      <th>3</th>\n",
       "      <td>Chloramines</td>\n",
       "      <td>16.667168</td>\n",
       "    </tr>\n",
       "    <tr>\n",
       "      <th>4</th>\n",
       "      <td>Conductivity</td>\n",
       "      <td>21.701443</td>\n",
       "    </tr>\n",
       "  </tbody>\n",
       "</table>\n",
       "</div>"
      ],
      "text/plain": [
       "      variables        VIF\n",
       "0            ph  19.844259\n",
       "1      Hardness  25.240864\n",
       "2        Solids   6.723726\n",
       "3   Chloramines  16.667168\n",
       "4  Conductivity  21.701443"
      ]
     },
     "execution_count": 28,
     "metadata": {},
     "output_type": "execute_result"
    }
   ],
   "source": [
    "calc_vif(Xf_train)"
   ]
  },
  {
   "cell_type": "code",
   "execution_count": 29,
   "metadata": {
    "colab": {
     "base_uri": "https://localhost:8080/"
    },
    "executionInfo": {
     "elapsed": 1147,
     "status": "ok",
     "timestamp": 1700178853551,
     "user": {
      "displayName": "CY J",
      "userId": "11058883697243258040"
     },
     "user_tz": -540
    },
    "id": "vCDCr_uXASFM",
    "outputId": "98a43699-399a-41e6-e0d6-d938bda4f07a"
   },
   "outputs": [
    {
     "name": "stdout",
     "output_type": "stream",
     "text": [
      "0.6456276538118787\n"
     ]
    }
   ],
   "source": [
    "rnd_clf4 = RandomForestClassifier(max_features='sqrt', random_state=42)\n",
    "rnd_clf4.fit(Xf_train, yf_train)\n",
    "\n",
    "# 예측 확률을 사용하여 AUC 계산\n",
    "yf_pred_proba4 = rnd_clf4.predict_proba(Xf_test)[:, 1]\n",
    "print(roc_auc_score(yf_test, yf_pred_proba4))"
   ]
  },
  {
   "cell_type": "code",
   "execution_count": 30,
   "metadata": {
    "executionInfo": {
     "elapsed": 15,
     "status": "ok",
     "timestamp": 1700178853551,
     "user": {
      "displayName": "CY J",
      "userId": "11058883697243258040"
     },
     "user_tz": -540
    },
    "id": "vIq5CEgl-DBT"
   },
   "outputs": [],
   "source": [
    "# 가장 vif가 높은 Sulfate drop\n",
    "Xf_train=Xf_train.drop(['Hardness'],axis=1)\n",
    "Xf_test=Xf_test.drop(['Hardness'],axis=1)"
   ]
  },
  {
   "cell_type": "code",
   "execution_count": 31,
   "metadata": {
    "colab": {
     "base_uri": "https://localhost:8080/",
     "height": 175
    },
    "executionInfo": {
     "elapsed": 13,
     "status": "ok",
     "timestamp": 1700178853551,
     "user": {
      "displayName": "CY J",
      "userId": "11058883697243258040"
     },
     "user_tz": -540
    },
    "id": "gUOXUWhr-SNC",
    "outputId": "ed003a21-7b5f-4673-e7b8-c052677d99a6"
   },
   "outputs": [
    {
     "data": {
      "text/html": [
       "<div>\n",
       "<style scoped>\n",
       "    .dataframe tbody tr th:only-of-type {\n",
       "        vertical-align: middle;\n",
       "    }\n",
       "\n",
       "    .dataframe tbody tr th {\n",
       "        vertical-align: top;\n",
       "    }\n",
       "\n",
       "    .dataframe thead th {\n",
       "        text-align: right;\n",
       "    }\n",
       "</style>\n",
       "<table border=\"1\" class=\"dataframe\">\n",
       "  <thead>\n",
       "    <tr style=\"text-align: right;\">\n",
       "      <th></th>\n",
       "      <th>variables</th>\n",
       "      <th>VIF</th>\n",
       "    </tr>\n",
       "  </thead>\n",
       "  <tbody>\n",
       "    <tr>\n",
       "      <th>0</th>\n",
       "      <td>ph</td>\n",
       "      <td>16.665601</td>\n",
       "    </tr>\n",
       "    <tr>\n",
       "      <th>1</th>\n",
       "      <td>Solids</td>\n",
       "      <td>6.510986</td>\n",
       "    </tr>\n",
       "    <tr>\n",
       "      <th>2</th>\n",
       "      <td>Chloramines</td>\n",
       "      <td>15.153164</td>\n",
       "    </tr>\n",
       "    <tr>\n",
       "      <th>3</th>\n",
       "      <td>Conductivity</td>\n",
       "      <td>19.313420</td>\n",
       "    </tr>\n",
       "  </tbody>\n",
       "</table>\n",
       "</div>"
      ],
      "text/plain": [
       "      variables        VIF\n",
       "0            ph  16.665601\n",
       "1        Solids   6.510986\n",
       "2   Chloramines  15.153164\n",
       "3  Conductivity  19.313420"
      ]
     },
     "execution_count": 31,
     "metadata": {},
     "output_type": "execute_result"
    }
   ],
   "source": [
    "calc_vif(Xf_train)"
   ]
  },
  {
   "cell_type": "code",
   "execution_count": 32,
   "metadata": {
    "colab": {
     "base_uri": "https://localhost:8080/"
    },
    "executionInfo": {
     "elapsed": 952,
     "status": "ok",
     "timestamp": 1700178854493,
     "user": {
      "displayName": "CY J",
      "userId": "11058883697243258040"
     },
     "user_tz": -540
    },
    "id": "hyYkHEy5AUrW",
    "outputId": "ce1d9082-f6e3-44d9-bd3d-3c9575c11f2f"
   },
   "outputs": [
    {
     "name": "stdout",
     "output_type": "stream",
     "text": [
      "0.6129082283457686\n"
     ]
    }
   ],
   "source": [
    "rnd_clf5 = RandomForestClassifier(max_features='sqrt', random_state=42)\n",
    "rnd_clf5.fit(Xf_train, yf_train)\n",
    "\n",
    "# 예측 확률을 사용하여 AUC 계산\n",
    "yf_pred_proba5 = rnd_clf5.predict_proba(Xf_test)[:, 1]\n",
    "print(roc_auc_score(yf_test, yf_pred_proba5))"
   ]
  },
  {
   "cell_type": "code",
   "execution_count": 33,
   "metadata": {
    "executionInfo": {
     "elapsed": 24,
     "status": "ok",
     "timestamp": 1700178854494,
     "user": {
      "displayName": "CY J",
      "userId": "11058883697243258040"
     },
     "user_tz": -540
    },
    "id": "Cr9lONQj-SLM"
   },
   "outputs": [],
   "source": [
    "# 가장 vif가 높은 Sulfate drop\n",
    "Xf_train=Xf_train.drop(['Conductivity'],axis=1)\n",
    "Xf_test=Xf_test.drop(['Conductivity'],axis=1)"
   ]
  },
  {
   "cell_type": "code",
   "execution_count": 34,
   "metadata": {
    "colab": {
     "base_uri": "https://localhost:8080/",
     "height": 143
    },
    "executionInfo": {
     "elapsed": 21,
     "status": "ok",
     "timestamp": 1700178854494,
     "user": {
      "displayName": "CY J",
      "userId": "11058883697243258040"
     },
     "user_tz": -540
    },
    "id": "F1kb06tS-toq",
    "outputId": "69b64d8a-21c2-483e-aafb-c5e42583bc51"
   },
   "outputs": [
    {
     "data": {
      "text/html": [
       "<div>\n",
       "<style scoped>\n",
       "    .dataframe tbody tr th:only-of-type {\n",
       "        vertical-align: middle;\n",
       "    }\n",
       "\n",
       "    .dataframe tbody tr th {\n",
       "        vertical-align: top;\n",
       "    }\n",
       "\n",
       "    .dataframe thead th {\n",
       "        text-align: right;\n",
       "    }\n",
       "</style>\n",
       "<table border=\"1\" class=\"dataframe\">\n",
       "  <thead>\n",
       "    <tr style=\"text-align: right;\">\n",
       "      <th></th>\n",
       "      <th>variables</th>\n",
       "      <th>VIF</th>\n",
       "    </tr>\n",
       "  </thead>\n",
       "  <tbody>\n",
       "    <tr>\n",
       "      <th>0</th>\n",
       "      <td>ph</td>\n",
       "      <td>12.569571</td>\n",
       "    </tr>\n",
       "    <tr>\n",
       "      <th>1</th>\n",
       "      <td>Solids</td>\n",
       "      <td>6.043131</td>\n",
       "    </tr>\n",
       "    <tr>\n",
       "      <th>2</th>\n",
       "      <td>Chloramines</td>\n",
       "      <td>12.385319</td>\n",
       "    </tr>\n",
       "  </tbody>\n",
       "</table>\n",
       "</div>"
      ],
      "text/plain": [
       "     variables        VIF\n",
       "0           ph  12.569571\n",
       "1       Solids   6.043131\n",
       "2  Chloramines  12.385319"
      ]
     },
     "execution_count": 34,
     "metadata": {},
     "output_type": "execute_result"
    }
   ],
   "source": [
    "calc_vif(Xf_train)"
   ]
  },
  {
   "cell_type": "code",
   "execution_count": 35,
   "metadata": {
    "colab": {
     "base_uri": "https://localhost:8080/"
    },
    "executionInfo": {
     "elapsed": 454,
     "status": "ok",
     "timestamp": 1700178854932,
     "user": {
      "displayName": "CY J",
      "userId": "11058883697243258040"
     },
     "user_tz": -540
    },
    "id": "hpq_J14wAW8x",
    "outputId": "2c16c425-b57b-4f2e-9eb9-e5c1ff3cd1d2"
   },
   "outputs": [
    {
     "name": "stdout",
     "output_type": "stream",
     "text": [
      "0.5888273427807579\n"
     ]
    }
   ],
   "source": [
    "rnd_clf6 = RandomForestClassifier(max_features='sqrt', random_state=42)\n",
    "rnd_clf6.fit(Xf_train, yf_train)\n",
    "\n",
    "# 예측 확률을 사용하여 AUC 계산\n",
    "yf_pred_proba6 = rnd_clf6.predict_proba(Xf_test)[:, 1]\n",
    "print(roc_auc_score(yf_test, yf_pred_proba6))"
   ]
  },
  {
   "cell_type": "markdown",
   "metadata": {
    "id": "XigGQQ1TAe4U"
   },
   "source": [
    "# vif론 하면 독립변수를 구할 경우 roc_auc가 매우 안좋아짐으로 vif론 입력변수 정하지않고 feature importance로만 입력변수를 정함\n",
    "'ph', 'Hardness', 'Solids', 'Chloramines', 'Sulfate', 'Conductivity'"
   ]
  },
  {
   "cell_type": "code",
   "execution_count": 36,
   "metadata": {
    "executionInfo": {
     "elapsed": 17,
     "status": "ok",
     "timestamp": 1700178854933,
     "user": {
      "displayName": "CY J",
      "userId": "11058883697243258040"
     },
     "user_tz": -540
    },
    "id": "DG5ZO_Ychycd"
   },
   "outputs": [],
   "source": [
    "X = data.drop(['Potability','ph','Hardness','Solids','Chloramines','Sulfate','Conductivity'],axis=1)\n",
    "y = data['Potability']"
   ]
  },
  {
   "cell_type": "code",
   "execution_count": 37,
   "metadata": {
    "executionInfo": {
     "elapsed": 16,
     "status": "ok",
     "timestamp": 1700178854934,
     "user": {
      "displayName": "CY J",
      "userId": "11058883697243258040"
     },
     "user_tz": -540
    },
    "id": "B-pXDFyX-tlT"
   },
   "outputs": [],
   "source": [
    "X_train, X_test, y_train, y_test = train_test_split(X, y, test_size = 0.2)"
   ]
  },
  {
   "cell_type": "markdown",
   "metadata": {
    "id": "XRisIeZbkj69"
   },
   "source": [
    "------------전처리끝-------------------"
   ]
  },
  {
   "cell_type": "code",
   "execution_count": 38,
   "metadata": {},
   "outputs": [
    {
     "data": {
      "text/html": [
       "<div>\n",
       "<style scoped>\n",
       "    .dataframe tbody tr th:only-of-type {\n",
       "        vertical-align: middle;\n",
       "    }\n",
       "\n",
       "    .dataframe tbody tr th {\n",
       "        vertical-align: top;\n",
       "    }\n",
       "\n",
       "    .dataframe thead th {\n",
       "        text-align: right;\n",
       "    }\n",
       "</style>\n",
       "<table border=\"1\" class=\"dataframe\">\n",
       "  <thead>\n",
       "    <tr style=\"text-align: right;\">\n",
       "      <th></th>\n",
       "      <th>Organic_carbon</th>\n",
       "      <th>Trihalomethanes</th>\n",
       "      <th>Turbidity</th>\n",
       "    </tr>\n",
       "  </thead>\n",
       "  <tbody>\n",
       "    <tr>\n",
       "      <th>2719</th>\n",
       "      <td>16.331421</td>\n",
       "      <td>92.643383</td>\n",
       "      <td>3.706266</td>\n",
       "    </tr>\n",
       "    <tr>\n",
       "      <th>784</th>\n",
       "      <td>14.768337</td>\n",
       "      <td>57.757554</td>\n",
       "      <td>2.191138</td>\n",
       "    </tr>\n",
       "    <tr>\n",
       "      <th>2912</th>\n",
       "      <td>16.963982</td>\n",
       "      <td>73.224833</td>\n",
       "      <td>4.094605</td>\n",
       "    </tr>\n",
       "    <tr>\n",
       "      <th>2397</th>\n",
       "      <td>19.408144</td>\n",
       "      <td>79.555593</td>\n",
       "      <td>4.099169</td>\n",
       "    </tr>\n",
       "    <tr>\n",
       "      <th>1040</th>\n",
       "      <td>10.075598</td>\n",
       "      <td>63.984225</td>\n",
       "      <td>4.724457</td>\n",
       "    </tr>\n",
       "  </tbody>\n",
       "</table>\n",
       "</div>"
      ],
      "text/plain": [
       "      Organic_carbon  Trihalomethanes  Turbidity\n",
       "2719       16.331421        92.643383   3.706266\n",
       "784        14.768337        57.757554   2.191138\n",
       "2912       16.963982        73.224833   4.094605\n",
       "2397       19.408144        79.555593   4.099169\n",
       "1040       10.075598        63.984225   4.724457"
      ]
     },
     "execution_count": 38,
     "metadata": {},
     "output_type": "execute_result"
    }
   ],
   "source": [
    "X_train.head()"
   ]
  },
  {
   "cell_type": "markdown",
   "metadata": {
    "id": "lBC2Odk3lC_v"
   },
   "source": [
    "## Naive Bayes"
   ]
  },
  {
   "cell_type": "code",
   "execution_count": 39,
   "metadata": {},
   "outputs": [
    {
     "data": {
      "text/html": [
       "<style>#sk-container-id-1 {color: black;}#sk-container-id-1 pre{padding: 0;}#sk-container-id-1 div.sk-toggleable {background-color: white;}#sk-container-id-1 label.sk-toggleable__label {cursor: pointer;display: block;width: 100%;margin-bottom: 0;padding: 0.3em;box-sizing: border-box;text-align: center;}#sk-container-id-1 label.sk-toggleable__label-arrow:before {content: \"▸\";float: left;margin-right: 0.25em;color: #696969;}#sk-container-id-1 label.sk-toggleable__label-arrow:hover:before {color: black;}#sk-container-id-1 div.sk-estimator:hover label.sk-toggleable__label-arrow:before {color: black;}#sk-container-id-1 div.sk-toggleable__content {max-height: 0;max-width: 0;overflow: hidden;text-align: left;background-color: #f0f8ff;}#sk-container-id-1 div.sk-toggleable__content pre {margin: 0.2em;color: black;border-radius: 0.25em;background-color: #f0f8ff;}#sk-container-id-1 input.sk-toggleable__control:checked~div.sk-toggleable__content {max-height: 200px;max-width: 100%;overflow: auto;}#sk-container-id-1 input.sk-toggleable__control:checked~label.sk-toggleable__label-arrow:before {content: \"▾\";}#sk-container-id-1 div.sk-estimator input.sk-toggleable__control:checked~label.sk-toggleable__label {background-color: #d4ebff;}#sk-container-id-1 div.sk-label input.sk-toggleable__control:checked~label.sk-toggleable__label {background-color: #d4ebff;}#sk-container-id-1 input.sk-hidden--visually {border: 0;clip: rect(1px 1px 1px 1px);clip: rect(1px, 1px, 1px, 1px);height: 1px;margin: -1px;overflow: hidden;padding: 0;position: absolute;width: 1px;}#sk-container-id-1 div.sk-estimator {font-family: monospace;background-color: #f0f8ff;border: 1px dotted black;border-radius: 0.25em;box-sizing: border-box;margin-bottom: 0.5em;}#sk-container-id-1 div.sk-estimator:hover {background-color: #d4ebff;}#sk-container-id-1 div.sk-parallel-item::after {content: \"\";width: 100%;border-bottom: 1px solid gray;flex-grow: 1;}#sk-container-id-1 div.sk-label:hover label.sk-toggleable__label {background-color: #d4ebff;}#sk-container-id-1 div.sk-serial::before {content: \"\";position: absolute;border-left: 1px solid gray;box-sizing: border-box;top: 0;bottom: 0;left: 50%;z-index: 0;}#sk-container-id-1 div.sk-serial {display: flex;flex-direction: column;align-items: center;background-color: white;padding-right: 0.2em;padding-left: 0.2em;position: relative;}#sk-container-id-1 div.sk-item {position: relative;z-index: 1;}#sk-container-id-1 div.sk-parallel {display: flex;align-items: stretch;justify-content: center;background-color: white;position: relative;}#sk-container-id-1 div.sk-item::before, #sk-container-id-1 div.sk-parallel-item::before {content: \"\";position: absolute;border-left: 1px solid gray;box-sizing: border-box;top: 0;bottom: 0;left: 50%;z-index: -1;}#sk-container-id-1 div.sk-parallel-item {display: flex;flex-direction: column;z-index: 1;position: relative;background-color: white;}#sk-container-id-1 div.sk-parallel-item:first-child::after {align-self: flex-end;width: 50%;}#sk-container-id-1 div.sk-parallel-item:last-child::after {align-self: flex-start;width: 50%;}#sk-container-id-1 div.sk-parallel-item:only-child::after {width: 0;}#sk-container-id-1 div.sk-dashed-wrapped {border: 1px dashed gray;margin: 0 0.4em 0.5em 0.4em;box-sizing: border-box;padding-bottom: 0.4em;background-color: white;}#sk-container-id-1 div.sk-label label {font-family: monospace;font-weight: bold;display: inline-block;line-height: 1.2em;}#sk-container-id-1 div.sk-label-container {text-align: center;}#sk-container-id-1 div.sk-container {/* jupyter's `normalize.less` sets `[hidden] { display: none; }` but bootstrap.min.css set `[hidden] { display: none !important; }` so we also need the `!important` here to be able to override the default hidden behavior on the sphinx rendered scikit-learn.org. See: https://github.com/scikit-learn/scikit-learn/issues/21755 */display: inline-block !important;position: relative;}#sk-container-id-1 div.sk-text-repr-fallback {display: none;}</style><div id=\"sk-container-id-1\" class=\"sk-top-container\"><div class=\"sk-text-repr-fallback\"><pre>GaussianNB()</pre><b>In a Jupyter environment, please rerun this cell to show the HTML representation or trust the notebook. <br />On GitHub, the HTML representation is unable to render, please try loading this page with nbviewer.org.</b></div><div class=\"sk-container\" hidden><div class=\"sk-item\"><div class=\"sk-estimator sk-toggleable\"><input class=\"sk-toggleable__control sk-hidden--visually\" id=\"sk-estimator-id-1\" type=\"checkbox\" checked><label for=\"sk-estimator-id-1\" class=\"sk-toggleable__label sk-toggleable__label-arrow\">GaussianNB</label><div class=\"sk-toggleable__content\"><pre>GaussianNB()</pre></div></div></div></div></div>"
      ],
      "text/plain": [
       "GaussianNB()"
      ]
     },
     "execution_count": 39,
     "metadata": {},
     "output_type": "execute_result"
    }
   ],
   "source": [
    "from sklearn.naive_bayes import GaussianNB\n",
    "\n",
    "# 나이브 베이즈 분류기 생성 및 훈련\n",
    "nb_classifier = GaussianNB()\n",
    "nb_classifier.fit(X_train, y_train)"
   ]
  },
  {
   "cell_type": "code",
   "execution_count": 40,
   "metadata": {},
   "outputs": [
    {
     "data": {
      "text/plain": [
       "0.5929878048780488"
      ]
     },
     "execution_count": 40,
     "metadata": {},
     "output_type": "execute_result"
    }
   ],
   "source": [
    "# 나이브 베이즈 분류기 평가\n",
    "nb_accuracy = nb_classifier.score(X_test, y_test)\n",
    "nb_accuracy"
   ]
  },
  {
   "cell_type": "code",
   "execution_count": 41,
   "metadata": {},
   "outputs": [
    {
     "data": {
      "text/plain": [
       "<Figure size 800x600 with 0 Axes>"
      ]
     },
     "metadata": {},
     "output_type": "display_data"
    },
    {
     "data": {
      "image/png": "[encoded data removed]",
      "text/plain": [
       "<Figure size 640x480 with 2 Axes>"
      ]
     },
     "metadata": {},
     "output_type": "display_data"
    }
   ],
   "source": [
    "from sklearn.metrics import confusion_matrix, ConfusionMatrixDisplay\n",
    "\n",
    "nb_pred = nb_classifier.predict(X_test)\n",
    "\n",
    "nb_cm = confusion_matrix(y_test, nb_pred)\n",
    "\n",
    "# 시각화\n",
    "plt.figure(figsize=(8, 6))\n",
    "disp = ConfusionMatrixDisplay(confusion_matrix=nb_cm)\n",
    "disp.plot(cmap=plt.cm.Blues)\n",
    "plt.title('Confusion Matrix')\n",
    "plt.show()"
   ]
  },
  {
   "cell_type": "markdown",
   "metadata": {},
   "source": [
    "## KNN (K Nearest Neighbors)"
   ]
  },
  {
   "cell_type": "code",
   "execution_count": 42,
   "metadata": {},
   "outputs": [
    {
     "name": "stdout",
     "output_type": "stream",
     "text": [
      "Fitting 10 folds for each of 30 candidates, totalling 300 fits\n",
      "Fitting 10 folds for each of 30 candidates, totalling 300 fits\n"
     ]
    },
    {
     "data": {
      "text/plain": [
       "({'metric': 'euclidean', 'n_neighbors': 9, 'weights': 'uniform'},\n",
       " 0.5591603053435115,\n",
       " {'weights': 'uniform', 'n_neighbors': 9, 'metric': 'euclidean'},\n",
       " 0.5591603053435115)"
      ]
     },
     "execution_count": 42,
     "metadata": {},
     "output_type": "execute_result"
    }
   ],
   "source": [
    "from sklearn.neighbors import KNeighborsClassifier\n",
    "from sklearn.model_selection import GridSearchCV, RandomizedSearchCV\n",
    "\n",
    "knn_params_grid = {\n",
    "    'n_neighbors': [3, 5, 7, 9, 11],\n",
    "    'weights': ['uniform', 'distance'],\n",
    "    'metric': ['euclidean', 'manhattan', 'minkowski']\n",
    "}\n",
    "\n",
    "# GridSearchCV를 사용한 그리드 탐색\n",
    "grid_search = GridSearchCV(KNeighborsClassifier(), knn_params_grid, cv=10, verbose=1, n_jobs=-1)\n",
    "grid_search.fit(X_train, y_train)\n",
    "\n",
    "# RandomizedSearchCV를 사용한 랜덤 탐색\n",
    "# 랜덤 탐색에서는 더 많은 파라미터 범위와 시도 횟수를 지정할 수 있습니다.\n",
    "random_search = RandomizedSearchCV(KNeighborsClassifier(), knn_params_grid, n_iter=30, cv=10, verbose=1, random_state=42, n_jobs=-1)\n",
    "random_search.fit(X_train, y_train)\n",
    "\n",
    "# 최적의 파라미터 및 그에 해당하는 정확도 출력\n",
    "best_params_grid = grid_search.best_params_\n",
    "best_score_grid = grid_search.best_score_\n",
    "best_params_random = random_search.best_params_\n",
    "best_score_random = random_search.best_score_\n",
    "\n",
    "best_params_grid, best_score_grid, best_params_random, best_score_random"
   ]
  },
  {
   "cell_type": "code",
   "execution_count": 43,
   "metadata": {},
   "outputs": [
    {
     "data": {
      "text/plain": [
       "<Figure size 800x600 with 0 Axes>"
      ]
     },
     "metadata": {},
     "output_type": "display_data"
    },
    {
     "data": {
      "image/png": "[encoded data removed]",
      "text/plain": [
       "<Figure size 640x480 with 2 Axes>"
      ]
     },
     "metadata": {},
     "output_type": "display_data"
    }
   ],
   "source": [
    "knn_best = grid_search.best_estimator_\n",
    "knn_best.fit(X_train, y_train)\n",
    "\n",
    "# 테스트 데이터에 대한 예측\n",
    "y_pred = knn_best.predict(X_test)\n",
    "\n",
    "# 혼동 행렬 생성 및 시각화\n",
    "cm = confusion_matrix(y_test, y_pred)\n",
    "\n",
    "plt.figure(figsize=(8, 6))\n",
    "disp = ConfusionMatrixDisplay(confusion_matrix=cm)\n",
    "disp.plot(cmap=plt.cm.Blues)\n",
    "plt.title('Confusion Matrix')\n",
    "plt.show()"
   ]
  },
  {
   "cell_type": "markdown",
   "metadata": {},
   "source": [
    "### Scale 조정"
   ]
  },
  {
   "cell_type": "code",
   "execution_count": 44,
   "metadata": {},
   "outputs": [
    {
     "name": "stdout",
     "output_type": "stream",
     "text": [
      "Fitting 10 folds for each of 30 candidates, totalling 300 fits\n",
      "Fitting 10 folds for each of 30 candidates, totalling 300 fits\n"
     ]
    },
    {
     "data": {
      "text/plain": [
       "({'metric': 'euclidean', 'n_neighbors': 11, 'weights': 'uniform'},\n",
       " 0.5629770992366413,\n",
       " {'weights': 'uniform', 'n_neighbors': 11, 'metric': 'euclidean'},\n",
       " 0.5629770992366413)"
      ]
     },
     "execution_count": 44,
     "metadata": {},
     "output_type": "execute_result"
    }
   ],
   "source": [
    "from sklearn.preprocessing import StandardScaler\n",
    "\n",
    "# 데이터 표준화\n",
    "scaler = StandardScaler()\n",
    "X_train_scaled = scaler.fit_transform(X_train)\n",
    "X_test_scaled = scaler.transform(X_test)\n",
    "\n",
    "\n",
    "# GridSearchCV를 사용한 그리드 탐색\n",
    "grid_search = GridSearchCV(KNeighborsClassifier(), knn_params_grid, cv=10, verbose=1, n_jobs=-1)\n",
    "grid_search.fit(X_train_scaled, y_train)\n",
    "\n",
    "# RandomizedSearchCV를 사용한 랜덤 탐색\n",
    "# 랜덤 탐색에서는 더 많은 파라미터 범위와 시도 횟수를 지정할 수 있습니다.\n",
    "random_search = RandomizedSearchCV(KNeighborsClassifier(), knn_params_grid, n_iter=30, cv=10, verbose=1, random_state=42, n_jobs=-1)\n",
    "random_search.fit(X_train_scaled, y_train)\n",
    "\n",
    "# 최적의 파라미터 및 그에 해당하는 정확도 출력\n",
    "best_params_grid = grid_search.best_params_\n",
    "best_score_grid = grid_search.best_score_\n",
    "best_params_random = random_search.best_params_\n",
    "best_score_random = random_search.best_score_\n",
    "\n",
    "best_params_grid, best_score_grid, best_params_random, best_score_random"
   ]
  },
  {
   "cell_type": "code",
   "execution_count": 45,
   "metadata": {},
   "outputs": [
    {
     "data": {
      "text/plain": [
       "<Figure size 800x600 with 0 Axes>"
      ]
     },
     "metadata": {},
     "output_type": "display_data"
    },
    {
     "data": {
      "image/png": "[encoded data removed]",
      "text/plain": [
       "<Figure size 640x480 with 2 Axes>"
      ]
     },
     "metadata": {},
     "output_type": "display_data"
    }
   ],
   "source": [
    "knn_best = grid_search.best_estimator_\n",
    "knn_best.fit(X_train_scaled, y_train)\n",
    "\n",
    "# 테스트 데이터에 대한 예측\n",
    "y_pred = knn_best.predict(X_test_scaled)\n",
    "\n",
    "# 혼동 행렬 생성 및 시각화\n",
    "cm = confusion_matrix(y_test, y_pred)\n",
    "\n",
    "plt.figure(figsize=(8, 6))\n",
    "disp = ConfusionMatrixDisplay(confusion_matrix=cm)\n",
    "disp.plot(cmap=plt.cm.Blues)\n",
    "plt.title('Confusion Matrix')\n",
    "plt.show()"
   ]
  }
 ],
 "metadata": {
  "colab": {
   "provenance": []
  },
  "kernelspec": {
   "display_name": "Python 3 (ipykernel)",
   "language": "python",
   "name": "python3"
  },
  "language_info": {
   "codemirror_mode": {
    "name": "ipython",
    "version": 3
   },
   "file_extension": ".py",
   "mimetype": "text/x-python",
   "name": "python",
   "nbconvert_exporter": "python",
   "pygments_lexer": "ipython3",
   "version": "3.11.5"
  }
 },
 "nbformat": 4,
 "nbformat_minor": 1
}
